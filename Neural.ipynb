{
 "cells": [
  {
   "cell_type": "code",
   "execution_count": 1,
   "metadata": {},
   "outputs": [],
   "source": [
    "from random import choice \n",
    "from numpy import array, dot, random"
   ]
  },
  {
   "cell_type": "code",
   "execution_count": 2,
   "metadata": {},
   "outputs": [],
   "source": [
    "def unit_step(x):\n",
    "    return 0 if x < 0 else 1"
   ]
  },
  {
   "cell_type": "code",
   "execution_count": 3,
   "metadata": {},
   "outputs": [],
   "source": [
    "# compuerta OR\n",
    "training_data = [(array([0,0,1]), 0),\n",
    "                 (array([0,1,1]), 1),\n",
    "                 (array([1,0,1]), 1),\n",
    "                 (array([1,1,1]), 1), ]\n",
    "\n",
    "w = random.rand(3)\n",
    "\n",
    "errors = []\n",
    "eta = 0.2\n",
    "n = 30"
   ]
  },
  {
   "cell_type": "code",
   "execution_count": 7,
   "metadata": {},
   "outputs": [
    {
     "name": "stdout",
     "output_type": "stream",
     "text": [
      "0.4667270055231477 [ 0.74296011  0.6307099  -0.16398289] [0 1 1]\n",
      "1.209687117120922 [ 0.74296011  0.6307099  -0.16398289] [1 1 1]\n",
      "-0.16398289242793573 [ 0.74296011  0.6307099  -0.16398289] [0 0 1]\n",
      "-0.16398289242793573 [ 0.74296011  0.6307099  -0.16398289] [0 0 1]\n",
      "0.4667270055231477 [ 0.74296011  0.6307099  -0.16398289] [0 1 1]\n",
      "0.5789772191698387 [ 0.74296011  0.6307099  -0.16398289] [1 0 1]\n",
      "-0.16398289242793573 [ 0.74296011  0.6307099  -0.16398289] [0 0 1]\n",
      "0.4667270055231477 [ 0.74296011  0.6307099  -0.16398289] [0 1 1]\n",
      "1.209687117120922 [ 0.74296011  0.6307099  -0.16398289] [1 1 1]\n",
      "-0.16398289242793573 [ 0.74296011  0.6307099  -0.16398289] [0 0 1]\n",
      "0.5789772191698387 [ 0.74296011  0.6307099  -0.16398289] [1 0 1]\n",
      "-0.16398289242793573 [ 0.74296011  0.6307099  -0.16398289] [0 0 1]\n",
      "0.5789772191698387 [ 0.74296011  0.6307099  -0.16398289] [1 0 1]\n",
      "1.209687117120922 [ 0.74296011  0.6307099  -0.16398289] [1 1 1]\n",
      "0.4667270055231477 [ 0.74296011  0.6307099  -0.16398289] [0 1 1]\n",
      "0.4667270055231477 [ 0.74296011  0.6307099  -0.16398289] [0 1 1]\n",
      "1.209687117120922 [ 0.74296011  0.6307099  -0.16398289] [1 1 1]\n",
      "0.4667270055231477 [ 0.74296011  0.6307099  -0.16398289] [0 1 1]\n",
      "-0.16398289242793573 [ 0.74296011  0.6307099  -0.16398289] [0 0 1]\n",
      "1.209687117120922 [ 0.74296011  0.6307099  -0.16398289] [1 1 1]\n",
      "1.209687117120922 [ 0.74296011  0.6307099  -0.16398289] [1 1 1]\n",
      "1.209687117120922 [ 0.74296011  0.6307099  -0.16398289] [1 1 1]\n",
      "0.5789772191698387 [ 0.74296011  0.6307099  -0.16398289] [1 0 1]\n",
      "0.4667270055231477 [ 0.74296011  0.6307099  -0.16398289] [0 1 1]\n",
      "0.4667270055231477 [ 0.74296011  0.6307099  -0.16398289] [0 1 1]\n",
      "-0.16398289242793573 [ 0.74296011  0.6307099  -0.16398289] [0 0 1]\n",
      "-0.16398289242793573 [ 0.74296011  0.6307099  -0.16398289] [0 0 1]\n",
      "0.4667270055231477 [ 0.74296011  0.6307099  -0.16398289] [0 1 1]\n",
      "0.5789772191698387 [ 0.74296011  0.6307099  -0.16398289] [1 0 1]\n",
      "0.4667270055231477 [ 0.74296011  0.6307099  -0.16398289] [0 1 1]\n"
     ]
    }
   ],
   "source": [
    "# train\n",
    "\n",
    "for i in range(n):\n",
    "    x, expected = choice(training_data)\n",
    "    result = dot(w, x)\n",
    "    error = expected - unit_step(result)\n",
    "    errors.append(error)\n",
    "    w += eta * error * x\n",
    "    print(result, w, x)"
   ]
  },
  {
   "cell_type": "code",
   "execution_count": 5,
   "metadata": {},
   "outputs": [
    {
     "name": "stdout",
     "output_type": "stream",
     "text": [
      "[0 0]: -0.16398289242793573 -> 0\n",
      "[0 1]: 0.4667270055231477 -> 1\n",
      "[1 0]: 0.5789772191698387 -> 1\n",
      "[1 1]: 1.209687117120922 -> 1\n"
     ]
    }
   ],
   "source": [
    "for x, _ in training_data:\n",
    "    result = dot(x, w)\n",
    "    print(\"{}: {} -> {}\".format(x[:2], result, unit_step(result)))"
   ]
  },
  {
   "cell_type": "code",
   "execution_count": 6,
   "metadata": {},
   "outputs": [
    {
     "data": {
      "text/plain": [
       "[<matplotlib.lines.Line2D at 0x7f49e6c1fd68>]"
      ]
     },
     "execution_count": 6,
     "metadata": {},
     "output_type": "execute_result"
    },
    {
     "data": {
      "image/png": "[encoded data removed]",
      "text/plain": [
       "<Figure size 432x288 with 1 Axes>"
      ]
     },
     "metadata": {},
     "output_type": "display_data"
    }
   ],
   "source": [
    "from pylab import plot, ylim\n",
    "%matplotlib inline\n",
    "ylim([-1, 1])\n",
    "plot(errors)"
   ]
  }
 ],
 "metadata": {
  "kernelspec": {
   "display_name": "Python 3",
   "language": "python",
   "name": "python3"
  },
  "language_info": {
   "codemirror_mode": {
    "name": "ipython",
    "version": 3
   },
   "file_extension": ".py",
   "mimetype": "text/x-python",
   "name": "python",
   "nbconvert_exporter": "python",
   "pygments_lexer": "ipython3",
   "version": "3.4.2"
  }
 },
 "nbformat": 4,
 "nbformat_minor": 2
}
